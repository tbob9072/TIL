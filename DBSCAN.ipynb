{
 "cells": [
  {
   "cell_type": "code",
   "execution_count": 4,
   "metadata": {},
   "outputs": [],
   "source": [
    "from sklearn.datasets import load_iris\n",
    "\n",
    "import matplotlib.pyplot as plt\n",
    "import numpy as np\n",
    "import pandas as pd\n",
    "%matplotlib inline\n",
    "\n",
    "iris = load_iris()\n",
    "feature_names = ['sepal_length','sepal_width','petal_length','petal_width']\n",
    "\n",
    "# 보다 편리한 데이타 Handling을 위해 DataFrame으로 변환\n",
    "irisDF = pd.DataFrame(data=iris.data, columns=feature_names)\n",
    "irisDF['target'] = iris.target"
   ]
  },
  {
   "cell_type": "code",
   "execution_count": 5,
   "metadata": {},
   "outputs": [
    {
     "name": "stdout",
     "output_type": "stream",
     "text": [
      "target  dbscan_cluster\n",
      "0        0                49\n",
      "        -1                 1\n",
      "1        1                46\n",
      "        -1                 4\n",
      "2        1                42\n",
      "        -1                 8\n",
      "Name: dbscan_cluster, dtype: int64\n"
     ]
    }
   ],
   "source": [
    "from sklearn.cluster import DBSCAN\n",
    "\n",
    "dbscan = DBSCAN(eps = 0.6, min_samples = 8, metric = 'euclidean')\n",
    "dbscan_labels = dbscan.fit_predict(iris.data)\n",
    "\n",
    "irisDF['dbscan_cluster'] = dbscan_labels\n",
    "irisDF['target'] = iris.target\n",
    "\n",
    "iris_result = irisDF.groupby(['target'])['dbscan_cluster'].value_counts()\n",
    "print(iris_result)"
   ]
  },
  {
   "cell_type": "code",
   "execution_count": 6,
   "metadata": {},
   "outputs": [
    {
     "name": "stdout",
     "output_type": "stream",
     "text": [
      "target  dbscan_cluster\n",
      "0        0                50\n",
      "1        1                50\n",
      "2        1                47\n",
      "        -1                 3\n",
      "Name: dbscan_cluster, dtype: int64\n"
     ]
    }
   ],
   "source": [
    "from sklearn.cluster import DBSCAN\n",
    "\n",
    "dbscan = DBSCAN(eps = 0.8, min_samples = 8, metric = 'euclidean')\n",
    "dbscan_labels = dbscan.fit_predict(iris.data)\n",
    "\n",
    "irisDF['dbscan_cluster'] = dbscan_labels\n",
    "irisDF['target'] = iris.target\n",
    "\n",
    "iris_result = irisDF.groupby(['target'])['dbscan_cluster'].value_counts()\n",
    "print(iris_result)"
   ]
  },
  {
   "cell_type": "code",
   "execution_count": 12,
   "metadata": {},
   "outputs": [
    {
     "name": "stdout",
     "output_type": "stream",
     "text": [
      "target  dbscan_cluster\n",
      "0       0                 50\n",
      "1       1                 50\n",
      "2       1                 50\n",
      "Name: dbscan_cluster, dtype: int64\n"
     ]
    }
   ],
   "source": [
    "from sklearn.cluster import DBSCAN\n",
    "\n",
    "dbscan = DBSCAN(eps = 1, min_samples = 8, metric = 'euclidean')\n",
    "dbscan_labels = dbscan.fit_predict(iris.data)\n",
    "\n",
    "irisDF['dbscan_cluster'] = dbscan_labels\n",
    "irisDF['target'] = iris.target\n",
    "\n",
    "iris_result = irisDF.groupby(['target'])['dbscan_cluster'].value_counts()\n",
    "print(iris_result)"
   ]
  }
 ],
 "metadata": {
  "kernelspec": {
   "display_name": "Python 3",
   "language": "python",
   "name": "python3"
  },
  "language_info": {
   "codemirror_mode": {
    "name": "ipython",
    "version": 3
   },
   "file_extension": ".py",
   "mimetype": "text/x-python",
   "name": "python",
   "nbconvert_exporter": "python",
   "pygments_lexer": "ipython3",
   "version": "3.7.4"
  }
 },
 "nbformat": 4,
 "nbformat_minor": 2
}
