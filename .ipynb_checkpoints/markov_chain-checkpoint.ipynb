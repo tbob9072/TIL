{
 "cells": [
  {
   "cell_type": "code",
   "execution_count": 8,
   "metadata": {},
   "outputs": [],
   "source": [
    "import codecs\n",
    "from bs4 import BeautifulSoup\n",
    "from konlpy.tag import Twitter\n",
    "import urllib.request\n",
    "import os, re, json, random"
   ]
  },
  {
   "cell_type": "code",
   "execution_count": 14,
   "metadata": {},
   "outputs": [],
   "source": [
    "# 마르코프 체인 딕셔너리 만들기 --- (※1)\n",
    "def make_dic(words):\n",
    "    tmp = [\"@\"]\n",
    "    dic = {}\n",
    "    for word in words:\n",
    "        tmp.append(word)\n",
    "        if len(tmp) < 3: continue\n",
    "        if len(tmp) > 3: tmp = tmp[1:]\n",
    "        set_word3(dic, tmp)\n",
    "        if word == \".\":\n",
    "            tmp = [\"@\"]\n",
    "            continue\n",
    "    return dic\n",
    "# 딕셔너리에 데이터 등록하기 --- (※2)\n",
    "def set_word3(dic, s3):\n",
    "    w1, w2, w3 = s3\n",
    "    if not w1 in dic: dic[w1] = {}\n",
    "    if not w2 in dic[w1]: dic[w1][w2] = {}\n",
    "    if not w3 in dic[w1][w2]: dic[w1][w2][w3] = 0\n",
    "    dic[w1][w2][w3] += 1\n",
    "\n",
    "def word_choice(sel):\n",
    "    keys = sel.keys()\n",
    "    return random.choice(list(keys))"
   ]
  },
  {
   "cell_type": "code",
   "execution_count": 16,
   "metadata": {},
   "outputs": [],
   "source": [
    "# 문장 만들기 --- (※3)\n",
    "def make_sentence(dic):\n",
    "    ret = []\n",
    "    if not \"@\" in dic: return \"no dic\" \n",
    "    top = dic[\"@\"]\n",
    "    w1 = word_choice(top)\n",
    "    w2 = word_choice(top[w1])\n",
    "    ret.append(w1)\n",
    "    ret.append(w2)\n",
    "    while True:\n",
    "        w3 = word_choice(dic[w1][w2])\n",
    "        ret.append(w3)\n",
    "        if w3 == \".\": break\n",
    "        w1, w2 = w2, w3\n",
    "    ret = \"\".join(ret)\n",
    "\n",
    "    # 리턴\n",
    "    return ret\n"
   ]
  },
  {
   "cell_type": "code",
   "execution_count": 50,
   "metadata": {},
   "outputs": [
    {
     "data": {
      "text/plain": [
       "'2.1.0'"
      ]
     },
     "execution_count": 50,
     "metadata": {},
     "output_type": "execute_result"
    }
   ],
   "source": [
    "\n",
    "\n",
    "\n"
   ]
  },
  {
   "cell_type": "code",
   "execution_count": 13,
   "metadata": {},
   "outputs": [],
   "source": [
    "toji_file = \"toji.txt\"\n",
    "dict_file = \"markov-toji.json\"\n",
    "if not os.path.exists(dict_file) :\n",
    "    fp = codecs.open(\"BEXX0014.txt\", encoding = \"utf-16\")\n",
    "    soup = BeautifulSoup(fp, \"html.parser\")\n",
    "    body = soup.select_one(\"text > body\")\n",
    "    text = body.getText()\n",
    "    text = text.replace(\"…\", \"\")\n",
    "    twitter = Twitter()\n",
    "    malist = twitter.pos(text, norm = True)\n",
    "    words = []\n",
    "    for word in malist:\n",
    "        if not word[1] in [\"Punctuation\"]:\n",
    "            words.append(word[0])\n",
    "        if word[0] == \".\" :\n",
    "            words.append(word[0])        \n",
    "    dic = make_dic(words)\n",
    "    json.dump(dic, open(dict_file, \"w\", encoding = \"utf-8\"))\n",
    "else :\n",
    "    dic = json.load(open(dict_file, \"r\"))"
   ]
  },
  {
   "cell_type": "code",
   "execution_count": 35,
   "metadata": {},
   "outputs": [],
   "source": [
    "toji_file = \"toji.txt\"\n",
    "dict_file = \"markov-toji.json\"\n",
    "if not os.path.exists(dict_file) :\n",
    "    fp = codecs.open(\"BEXX0014.txt\", encoding = \"utf-16\")\n",
    "    soup = BeautifulSoup(fp, \"html.parser\")\n",
    "    body = soup.select_one(\"text > body\")\n",
    "    text = body.getText()\n",
    "    text = text.replace(\"…\", \"\")\n",
    "    twitter = Twitter()\n",
    "    malist = twitter.pos(text, norm = True)\n",
    "    words = []\n",
    "    for word in malist:\n",
    "        if not word[1] in [\"Punctuation\"]:\n",
    "            words.append(word[0])\n",
    "        if word[0] == \".\" :\n",
    "            words.append(word[0])\n",
    "    dic = make_dic(words)\n",
    "    json.dump(dic, open(dict_file,\"w\", encoding=\"utf-8\"))\n",
    "else:\n",
    "    dic = json.load(open(dict_file,\"r\"))"
   ]
  },
  {
   "cell_type": "code",
   "execution_count": 34,
   "metadata": {},
   "outputs": [
    {
     "name": "stdout",
     "output_type": "stream",
     "text": [
      "정이럴거야생니를놔두고방을향한환국의음성은격렬했고덕희는끝내고집을꺾으려하지않았다.\n",
      "---\n",
      "나루터에못이박힌것도여태까지의관성이었다.\n",
      "---\n",
      "고학을좀삐어서하기사머지팽이짚고댕길나이도홍이손을쓰고있으니나오기야나오겠지요\n",
      "여기저기관공소에는다방공호를파놨습니다\n",
      "포탄이떨어지면방공호에들어갔다고해서살겠나\n",
      "글쎄요.\n",
      "---\n"
     ]
    }
   ],
   "source": [
    "for i in range(3):\n",
    "    s = make_sentence(dic)\n",
    "    print(s)\n",
    "    print(\"---\")"
   ]
  }
 ],
 "metadata": {
  "kernelspec": {
   "display_name": "Python 3",
   "language": "python",
   "name": "python3"
  },
  "language_info": {
   "codemirror_mode": {
    "name": "ipython",
    "version": 3
   },
   "file_extension": ".py",
   "mimetype": "text/x-python",
   "name": "python",
   "nbconvert_exporter": "python",
   "pygments_lexer": "ipython3",
   "version": "3.7.4"
  }
 },
 "nbformat": 4,
 "nbformat_minor": 2
}
