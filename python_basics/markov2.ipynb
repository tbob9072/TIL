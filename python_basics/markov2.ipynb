{
 "cells": [
  {
   "cell_type": "code",
   "execution_count": 3,
   "metadata": {},
   "outputs": [
    {
     "name": "stderr",
     "output_type": "stream",
     "text": [
      "Using TensorFlow backend.\n",
      "/Users/tbob/opt/anaconda3/envs/py36/lib/python3.6/site-packages/tensorflow/python/framework/dtypes.py:517: FutureWarning: Passing (type, 1) or '1type' as a synonym of type is deprecated; in a future version of numpy, it will be understood as (type, (1,)) / '(1,)type'.\n",
      "  _np_qint8 = np.dtype([(\"qint8\", np.int8, 1)])\n",
      "/Users/tbob/opt/anaconda3/envs/py36/lib/python3.6/site-packages/tensorflow/python/framework/dtypes.py:518: FutureWarning: Passing (type, 1) or '1type' as a synonym of type is deprecated; in a future version of numpy, it will be understood as (type, (1,)) / '(1,)type'.\n",
      "  _np_quint8 = np.dtype([(\"quint8\", np.uint8, 1)])\n",
      "/Users/tbob/opt/anaconda3/envs/py36/lib/python3.6/site-packages/tensorflow/python/framework/dtypes.py:519: FutureWarning: Passing (type, 1) or '1type' as a synonym of type is deprecated; in a future version of numpy, it will be understood as (type, (1,)) / '(1,)type'.\n",
      "  _np_qint16 = np.dtype([(\"qint16\", np.int16, 1)])\n",
      "/Users/tbob/opt/anaconda3/envs/py36/lib/python3.6/site-packages/tensorflow/python/framework/dtypes.py:520: FutureWarning: Passing (type, 1) or '1type' as a synonym of type is deprecated; in a future version of numpy, it will be understood as (type, (1,)) / '(1,)type'.\n",
      "  _np_quint16 = np.dtype([(\"quint16\", np.uint16, 1)])\n",
      "/Users/tbob/opt/anaconda3/envs/py36/lib/python3.6/site-packages/tensorflow/python/framework/dtypes.py:521: FutureWarning: Passing (type, 1) or '1type' as a synonym of type is deprecated; in a future version of numpy, it will be understood as (type, (1,)) / '(1,)type'.\n",
      "  _np_qint32 = np.dtype([(\"qint32\", np.int32, 1)])\n",
      "/Users/tbob/opt/anaconda3/envs/py36/lib/python3.6/site-packages/tensorflow/python/framework/dtypes.py:526: FutureWarning: Passing (type, 1) or '1type' as a synonym of type is deprecated; in a future version of numpy, it will be understood as (type, (1,)) / '(1,)type'.\n",
      "  np_resource = np.dtype([(\"resource\", np.ubyte, 1)])\n"
     ]
    },
    {
     "name": "stdout",
     "output_type": "stream",
     "text": [
      "WARNING:tensorflow:From /Users/tbob/opt/anaconda3/envs/py36/lib/python3.6/site-packages/tensorflow/python/util/deprecation.py:497: calling conv1d (from tensorflow.python.ops.nn_ops) with data_format=NHWC is deprecated and will be removed in a future version.\n",
      "Instructions for updating:\n",
      "`NHWC` for data_format is deprecated, use `NWC` instead\n"
     ]
    }
   ],
   "source": [
    "import codecs\n",
    "from bs4 import BeautifulSoup\n",
    "from konlpy.tag import Twitter\n",
    "import urllib.request\n",
    "import os, re, json, random\n",
    "from pykospacing import spacing"
   ]
  },
  {
   "cell_type": "code",
   "execution_count": 5,
   "metadata": {},
   "outputs": [],
   "source": [
    "# 마르코프 체인 딕셔너리 만들기 --- (※1)\n",
    "def make_dic(words):\n",
    "    tmp = [\"@\"]\n",
    "    dic = {}\n",
    "    for word in words:\n",
    "        tmp.append(word)\n",
    "        if len(tmp) < 3: continue\n",
    "        if len(tmp) > 3: tmp = tmp[1:]\n",
    "        set_word3(dic, tmp)\n",
    "        if word == \".\":\n",
    "            tmp = [\"@\"]\n",
    "            continue\n",
    "    return dic\n",
    "# 딕셔너리에 데이터 등록하기 --- (※2)\n",
    "def set_word3(dic, s3):\n",
    "    w1, w2, w3 = s3\n",
    "    if not w1 in dic: dic[w1] = {}\n",
    "    if not w2 in dic[w1]: dic[w1][w2] = {}\n",
    "    if not w3 in dic[w1][w2]: dic[w1][w2][w3] = 0\n",
    "    dic[w1][w2][w3] += 1\n",
    "# 문장 만들기 --- (※3)\n",
    "def make_sentence(dic):\n",
    "    ret = []\n",
    "    if not \"@\" in dic: return \"no dic\" \n",
    "    top = dic[\"@\"]\n",
    "    w1 = word_choice(top)\n",
    "    w2 = word_choice(top[w1])\n",
    "    ret.append(w1)\n",
    "    ret.append(w2)\n",
    "    while True:\n",
    "        w3 = word_choice(dic[w1][w2])\n",
    "        ret.append(w3)\n",
    "        if w3 == \".\": break\n",
    "        w1, w2 = w2, w3\n",
    "    ret = \"\".join(ret)\n",
    "    data = spacing(ret)\n",
    "    return data\n",
    "\n",
    "def word_choice(sel):\n",
    "    keys = sel.keys()\n",
    "    return random.choice(list(keys))\n"
   ]
  },
  {
   "cell_type": "code",
   "execution_count": 8,
   "metadata": {},
   "outputs": [
    {
     "name": "stderr",
     "output_type": "stream",
     "text": [
      "/Users/tbob/opt/anaconda3/envs/py36/lib/python3.6/site-packages/konlpy/tag/_okt.py:16: UserWarning: \"Twitter\" has changed to \"Okt\" since KoNLPy v0.4.5.\n",
      "  warn('\"Twitter\" has changed to \"Okt\" since KoNLPy v0.4.5.')\n"
     ]
    }
   ],
   "source": [
    "toji_file = \"toji.txt\"\n",
    "dict_file = \"markov-toji2.json\"\n",
    "if not os.path.exists(dict_file):\n",
    "    # 토지 텍스트 파일 읽어 들이기\n",
    "    fp = codecs.open(\"/Users/tbob/TIL/BEXX0014.txt\", \"r\", encoding=\"utf-16\")\n",
    "    soup = BeautifulSoup(fp, \"html.parser\")\n",
    "    body = soup.select_one(\"text > body\")\n",
    "    text = body.getText()\n",
    "    text = text.replace(\"…\", \"\") # 현재 koNLPy가 …을 구두점으로 잡지 못하는 문제 임시 해결\n",
    "    # 형태소 분석\n",
    "    twitter = Twitter()\n",
    "    malist = twitter.pos(text, norm=True)\n",
    "    words = []\n",
    "    for word in malist:\n",
    "        # 구두점 등은 대상에서 제외(단 마침표는 포함)\n",
    "        if not word[1] in [\"Punctuation\"]:\n",
    "            words.append(word[0])\n",
    "        if word[0] == \".\":\n",
    "            words.append(word[0])\n",
    "    # 딕셔너리 생성\n",
    "    dic = make_dic(words)\n",
    "    json.dump(dic, open(dict_file,\"w\", encoding=\"utf-8\"))\n",
    "else:\n",
    "    dic = json.load(open(dict_file,\"r\"))\n"
   ]
  },
  {
   "cell_type": "code",
   "execution_count": 9,
   "metadata": {},
   "outputs": [
    {
     "name": "stdout",
     "output_type": "stream",
     "text": [
      "악이 힘이요 고향에 돌아갈 수도 있을 것인데 멀잖을 게요 소일 중립조약에 의한 것이라 했다.\n",
      "---\n",
      "현관 옆의 수양버들은 싹이 터서 연둣빛이 된 거 아니겠어 남희를 최 참판 댁 첫째가 읍장을 찾아가서 그때는 정말 통쾌했어.\n",
      "---\n",
      "천하무비의 미남이구요 일본의 패망은 시간문제라 했고 매우 고무되어 있다는 점이었다.\n",
      "---\n"
     ]
    }
   ],
   "source": [
    "# 문장 만들기 --- (※6)\n",
    "for i in range(3):\n",
    "    s = make_sentence(dic)\n",
    "    print(s)\n",
    "    print(\"---\")"
   ]
  }
 ],
 "metadata": {
  "kernelspec": {
   "display_name": "Python 3",
   "language": "python",
   "name": "python3"
  },
  "language_info": {
   "codemirror_mode": {
    "name": "ipython",
    "version": 3
   },
   "file_extension": ".py",
   "mimetype": "text/x-python",
   "name": "python",
   "nbconvert_exporter": "python",
   "pygments_lexer": "ipython3",
   "version": "3.6.10"
  }
 },
 "nbformat": 4,
 "nbformat_minor": 4
}
