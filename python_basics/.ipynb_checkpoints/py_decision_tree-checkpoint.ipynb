{
 "cells": [
  {
   "cell_type": "code",
   "execution_count": null,
   "metadata": {},
   "outputs": [],
   "source": [
    "from sklearn.datasets import load_breast_cancer\n",
    "from sklearn.tree import DecisionTreeClassifier\n",
    "from sklearn.model_selection import train_test_split\n",
    "\n",
    "cancer = load_breast_cancer()\n",
    "X_train, X_test, y_train, y_test = train_test_split(\n",
    "    cancer.data, cancer.target, stratify = cancer.target, random_state = 42)\n",
    "    \n",
    "tree = DecisionTreeClassifier(random_state = 0)\n",
    "tree.fit(X_train, y_train)\n",
    "\n",
    "print(\"훈련 세트 정확도: {: .3f}\".format(tree.score(X_train, y_train)))\n",
    "print(\"테스트 세트 정확도: {: .3f}\".format(tree.score(X_test, y_test)))\n"
   ]
  }
 ],
 "metadata": {
  "kernelspec": {
   "display_name": "Python 3",
   "language": "python",
   "name": "python3"
  }
 },
 "nbformat": 4,
 "nbformat_minor": 2
}
